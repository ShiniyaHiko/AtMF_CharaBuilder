{
 "cells": [
  {
   "cell_type": "code",
   "execution_count": 50,
   "id": "192804f2-c12a-40b4-b94c-adc592bcc6bf",
   "metadata": {},
   "outputs": [],
   "source": [
    "import json\n",
    "import random\n",
    "\n",
    "class Character:\n",
    "    def __init__(self):\n",
    "        self.faction = \"\"\n",
    "        self.styles = []\n",
    "        self.values = []\n",
    "        self.gender = \"\"\n",
    "        self.chosen_styles = []\n",
    "        self.assigned_values = []\n",
    "        self.character_styles = []\n",
    "        #self.select_styles = []\n",
    "        self.faction_data = self.load_faction_data()\n",
    "        \n",
    "        \n",
    "        self.faction_data = self.load_faction_data()\n",
    "\n",
    "    def load_faction_data(self):\n",
    "        with open(\"faction_data.json\", \"r\", encoding=\"utf-8\") as file:\n",
    "            return json.load(file)\n",
    "\n",
    "    def choose_faction(self):\n",
    "        factions = list(self.faction_data.keys()) + [\"Randomize Faction\"]\n",
    "\n",
    "        print(\"Choose your faction:\")\n",
    "        for i, faction in enumerate(factions, 1):\n",
    "            print(f\"{i}. {faction}\")\n",
    "        \n",
    "        while True:\n",
    "            try:\n",
    "                choice = int(input(\"Enter the number of your choice: \"))\n",
    "                if 1 <= choice <= len(factions):\n",
    "                    if factions[choice - 1] == \"Randomize Faction\":\n",
    "                        self.random_faction_selection(factions[:-1])\n",
    "                    else:\n",
    "                        self.faction = factions[choice - 1]\n",
    "                        print(f\"You chose the {self.faction}!\\n\")\n",
    "                    break\n",
    "                else:\n",
    "                    print(\"Please choose a valid number from the list.\")\n",
    "            except ValueError:\n",
    "                print(\"Invalid input. Please enter a number.\")\n",
    "\n",
    "    def random_faction_selection(self, factions):\n",
    "        self.faction = random.choice(factions)\n",
    "        print(f\"Randomly selected faction: {self.faction}!\\n\")\n",
    "\n",
    "    def faction_specific_styles(self):\n",
    "        # Special gender handling for Borstenmütter\n",
    "        if self.faction == \"Borstenmütter\":\n",
    "            self.choose_gender()\n",
    "\n",
    "        # Load styles and values for the chosen faction\n",
    "        if self.faction in self.faction_data:\n",
    "            # Handle Borstenmütter (gender-specific styles)\n",
    "            if self.faction == \"Borstenmütter\" and self.gender:\n",
    "                base_styles = self.faction_data[self.faction][\"base_styles\"][self.gender][\"styles\"]\n",
    "                base_values = self.faction_data[self.faction][\"base_styles\"][self.gender][\"values\"]\n",
    "\n",
    "            # For all other factions\n",
    "            else:\n",
    "                base_styles = self.faction_data[self.faction][\"base_styles\"][\"styles\"]\n",
    "                base_values = self.faction_data[self.faction][\"base_styles\"][\"values\"]\n",
    "\n",
    "            # Load additional categories like habit_styles and joker_styles\n",
    "            habit_styles = self.faction_data[self.faction][\"habit_styles\"][\"styles\"]\n",
    "            habit_values = self.faction_data[self.faction][\"habit_styles\"][\"values\"]\n",
    "\n",
    "            joker_styles = self.faction_data[self.faction][\"joker_styles\"][\"styles\"]\n",
    "            joker_values = self.faction_data[self.faction][\"joker_styles\"][\"values\"]\n",
    "\n",
    "            # Merge all styles and values into one list\n",
    "            self.styles = base_styles + habit_styles + joker_styles\n",
    "            self.values = base_values + habit_values + joker_values\n",
    "            \n",
    "\n",
    "        \n",
    "        else:\n",
    "            print(f\"No specific styles defined for {self.faction}.\")\n",
    "\n",
    "    def choose_gender(self):\n",
    "        print(\"Borstenmütter: Bist du ein Keiler oder Bache?\")\n",
    "        while True:\n",
    "            gender_input = input(\"Gib 'Keiler' oder 'Bache' ein: \").lower()\n",
    "            if gender_input in [\"Keiler\", \"Bache\"]:\n",
    "                self.gender = gender_input\n",
    "                print(f\"You chose {self.gender} Borstenmütter!\\n\")\n",
    "                break\n",
    "            else:\n",
    "                print(\"Invalid input. Please enter 'Keiler' or 'Bache'.\")\n",
    "\n",
    "    def select_styles(self, style_category, count):\n",
    "        \"\"\"Select a given number of styles and assign values to them.\"\"\"\n",
    "        available_styles = self.faction_data[self.faction][style_category][\"styles\"]\n",
    "        available_values = self.faction_data[self.faction][style_category][\"values\"]\n",
    "    \n",
    "        selected_styles = []\n",
    "        selected_values = []\n",
    "    \n",
    "        while len(selected_styles) < count:\n",
    "            print(f\"Available {style_category}:\")\n",
    "            for i, style in enumerate(available_styles):\n",
    "                print(f\"{i + 1}. {style}\")\n",
    "        \n",
    "            try:\n",
    "                choice = int(input(f\"Choose a {style_category} (1-{len(available_styles)}): \")) - 1\n",
    "                if 0 <= choice < len(available_styles):\n",
    "                    selected_style = available_styles[choice]\n",
    "                    if selected_style not in selected_styles:\n",
    "                        selected_styles.append(selected_style)\n",
    "                        selected_values.append(self.assigned_values.pop(0))  # Assign the next available value\n",
    "                        print(f\"Selected: {selected_style}\")\n",
    "                    else:\n",
    "                        print(\"You already selected this style.\")\n",
    "                else:\n",
    "                    print(\"Invalid choice. Please choose a valid option.\")\n",
    "            except ValueError:\n",
    "                print(\"Invalid input. Please enter a number.\")\n",
    "\n",
    "        # Add selected styles and their assigned values as (style, value) tuples to character_styles\n",
    "        self.character_styles.extend(zip(selected_styles, selected_values))\n",
    "\n",
    "\n",
    "    def choose_all_styles(self):\n",
    "        \"\"\"Handle three different style choices with corresponding values.\"\"\"\n",
    "        # Copy the values to be assigned for selection\n",
    "        self.assigned_values = self.values[:]\n",
    "\n",
    "        # Base styles selection\n",
    "        base_style_count = len(self.faction_data[self.faction][\"base_styles\"][\"values\"])\n",
    "        self.select_styles(\"base_styles\", base_style_count)\n",
    "\n",
    "        # Habit styles selection\n",
    "        habit_style_count = len(self.faction_data[self.faction][\"habit_styles\"][\"values\"])\n",
    "        self.select_styles(\"habit_styles\", habit_style_count)\n",
    "\n",
    "        # Joker styles selection\n",
    "        joker_style_count = len(self.faction_data[self.faction][\"joker_styles\"][\"values\"])\n",
    "        self.select_styles(\"joker_styles\", joker_style_count)\n",
    "\n",
    "\n",
    "        self.display_style_summary()\n",
    "\n",
    "    def display_style_summary(self):\n",
    "        print(\"\\nAssigned Styles (Ordered by Value):\")\n",
    "        # Sort character_styles by the second element in each tuple (value), in descending order\n",
    "        sorted_styles = sorted(self.character_styles, key=lambda x: x[1], reverse=True)\n",
    "    \n",
    "        for style, value in sorted_styles:\n",
    "            print(f\"{style}: {value}\")\n"
   ]
  },
  {
   "cell_type": "code",
   "execution_count": 51,
   "id": "4d3bf4f7-ebfc-4529-8b20-236c4f28795b",
   "metadata": {},
   "outputs": [
    {
     "name": "stdout",
     "output_type": "stream",
     "text": [
      "Choose your faction:\n",
      "1. Architekten\n",
      "2. Borstenmütter\n",
      "3. Chronomaster\n",
      "4. Cybersamurai\n",
      "5. Corporat\n",
      "6. Herren der Verlorenen See\n",
      "7. Krieger von Valhalla\n",
      "8. Kinder des Löwen\n",
      "9. Mardukorden\n",
      "10. Moon Circus\n",
      "11. Nomads\n",
      "12. Pan Doa\n",
      "13. Schwesternschaft der 7\n",
      "14. Der Schwarm\n",
      "15. Überlebender\n",
      "16. Union\n",
      "17. Wanderer\n",
      "18. Randomize Faction\n"
     ]
    },
    {
     "name": "stdin",
     "output_type": "stream",
     "text": [
      "Enter the number of your choice:  1\n"
     ]
    },
    {
     "name": "stdout",
     "output_type": "stream",
     "text": [
      "You chose the Architekten!\n",
      "\n",
      "Available base_styles:\n",
      "1. Unbeholfener Nahkampf\n",
      "2. Überlegene Ausstrahlung\n",
      "3. Athletik\n",
      "4. Geschulte Wahrnehmung\n",
      "5. Perfekte Balance\n",
      "6. Technologien hacken\n",
      "7. Überzeugendes Charisma\n",
      "8. Erhabener Reiter\n"
     ]
    },
    {
     "name": "stdin",
     "output_type": "stream",
     "text": [
      "Choose a base_styles (1-8):  1\n"
     ]
    },
    {
     "name": "stdout",
     "output_type": "stream",
     "text": [
      "Selected: Unbeholfener Nahkampf\n",
      "Available base_styles:\n",
      "1. Unbeholfener Nahkampf\n",
      "2. Überlegene Ausstrahlung\n",
      "3. Athletik\n",
      "4. Geschulte Wahrnehmung\n",
      "5. Perfekte Balance\n",
      "6. Technologien hacken\n",
      "7. Überzeugendes Charisma\n",
      "8. Erhabener Reiter\n"
     ]
    },
    {
     "name": "stdin",
     "output_type": "stream",
     "text": [
      "Choose a base_styles (1-8):  1\n"
     ]
    },
    {
     "name": "stdout",
     "output_type": "stream",
     "text": [
      "You already selected this style.\n",
      "Available base_styles:\n",
      "1. Unbeholfener Nahkampf\n",
      "2. Überlegene Ausstrahlung\n",
      "3. Athletik\n",
      "4. Geschulte Wahrnehmung\n",
      "5. Perfekte Balance\n",
      "6. Technologien hacken\n",
      "7. Überzeugendes Charisma\n",
      "8. Erhabener Reiter\n"
     ]
    },
    {
     "name": "stdin",
     "output_type": "stream",
     "text": [
      "Choose a base_styles (1-8):  2\n"
     ]
    },
    {
     "name": "stdout",
     "output_type": "stream",
     "text": [
      "Selected: Überlegene Ausstrahlung\n",
      "Available habit_styles:\n",
      "1. Feiges Vorgehen-\n",
      "2. Mehr schlecht als recht-\n",
      "3. Langsames Rantasten-\n",
      "4. Ungewollte Brutalität-\n",
      "5. Beschämende Tricks-\n",
      "6. Unsauber und viel zu hastig-\n",
      "7. Umständlich und langsam-\n",
      "8. Übervorsichtig und langwierig-\n",
      "9. Viel zu riskant-\n",
      "10. Den Architekten unwürdig-\n"
     ]
    },
    {
     "name": "stdin",
     "output_type": "stream",
     "text": [
      "Choose a habit_styles (1-10):  3\n"
     ]
    },
    {
     "name": "stdout",
     "output_type": "stream",
     "text": [
      "Selected: Langsames Rantasten-\n",
      "Available joker_styles:\n",
      "1. Unverschämtes Glück*\n",
      "2. Perfektes Timing*\n",
      "3. Vollkommene Eleganz*\n",
      "4. Perfekte Präzision*\n",
      "5. Göttliche Perfektion*\n"
     ]
    },
    {
     "name": "stdin",
     "output_type": "stream",
     "text": [
      "Choose a joker_styles (1-5):  1\n"
     ]
    },
    {
     "name": "stdout",
     "output_type": "stream",
     "text": [
      "Selected: Unverschämtes Glück*\n",
      "\n",
      "Assigned Styles (Ordered by Value):\n",
      "Langsames Rantasten-: 12\n",
      "Unbeholfener Nahkampf: 6\n",
      "Überlegene Ausstrahlung: 6\n",
      "Unverschämtes Glück*: 6\n"
     ]
    }
   ],
   "source": [
    "# Main execution\n",
    "def main():\n",
    "    character = Character()\n",
    "    character.choose_faction()\n",
    "    character.faction_specific_styles()\n",
    "    character.choose_all_styles()\n",
    "\n",
    "if __name__ == \"__main__\":\n",
    "    main()"
   ]
  }
 ],
 "metadata": {
  "kernelspec": {
   "display_name": "Python 3 (ipykernel)",
   "language": "python",
   "name": "python3"
  },
  "language_info": {
   "codemirror_mode": {
    "name": "ipython",
    "version": 3
   },
   "file_extension": ".py",
   "mimetype": "text/x-python",
   "name": "python",
   "nbconvert_exporter": "python",
   "pygments_lexer": "ipython3",
   "version": "3.11.9"
  }
 },
 "nbformat": 4,
 "nbformat_minor": 5
}
