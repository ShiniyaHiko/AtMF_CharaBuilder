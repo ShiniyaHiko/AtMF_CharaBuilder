{
 "cells": [
  {
   "cell_type": "code",
   "execution_count": 10,
   "id": "192804f2-c12a-40b4-b94c-adc592bcc6bf",
   "metadata": {},
   "outputs": [
    {
     "name": "stdout",
     "output_type": "stream",
     "text": [
      "Choose your faction:\n",
      "1. Architekten\n",
      "2. Borstenmütter\n",
      "3. Chronomaster\n",
      "4. Cybersamurai\n",
      "5. Corporat\n",
      "6. Herren der Verlorenen See\n",
      "7. Krieger von Valhalla\n",
      "8. Kinder des Löwen\n",
      "9. Mardukorde \n",
      "10. Randomize Faction\n"
     ]
    },
    {
     "name": "stdin",
     "output_type": "stream",
     "text": [
      "Enter the number of your choice:  1\n"
     ]
    },
    {
     "name": "stdout",
     "output_type": "stream",
     "text": [
      "You chose the Architekten!\n",
      "\n",
      "Choose 2 styles and assign the values [6, 6]:\n",
      "1. Unbeholfener Nahkampf\n",
      "2. Überlegene Ausstrahlung\n",
      "3. Athletik\n",
      "4. Geschulte Wahrnehmung\n",
      "5. Perfekte Balance\n",
      "6. Technologien hacken\n",
      "7. Überzeugendes Charisma\n",
      "8. Erhabener Reiter\n"
     ]
    },
    {
     "name": "stdin",
     "output_type": "stream",
     "text": [
      "Choose style 1:  5\n"
     ]
    },
    {
     "name": "stdout",
     "output_type": "stream",
     "text": [
      "Assigned 6 to Perfekte Balance\n"
     ]
    },
    {
     "name": "stdin",
     "output_type": "stream",
     "text": [
      "Choose style 2:  7\n"
     ]
    },
    {
     "name": "stdout",
     "output_type": "stream",
     "text": [
      "Assigned 6 to Überzeugendes Charisma\n",
      "\n",
      "Assigned Styles:\n",
      "Perfekte Balance: 6\n",
      "Überzeugendes Charisma: 6\n"
     ]
    }
   ],
   "source": [
    "import json\n",
    "import random\n",
    "\n",
    "class Character:\n",
    "    def __init__(self):\n",
    "        self.faction = \"\"\n",
    "        self.styles = []\n",
    "        self.values = [] # General styles\n",
    "        self.gender = \"\" # Borstenmütter\n",
    "        \n",
    "        self.faction_data = self.load_faction_data()\n",
    "\n",
    "    def load_faction_data(self):\n",
    "        with open(\"basic_styles.json\", \"r\", encoding=\"utf-8\") as file:\n",
    "            return json.load(file)\n",
    "\n",
    "    def choose_faction(self):\n",
    "        factions = list(self.faction_data.keys()) + [\"Randomize Faction\"]\n",
    "\n",
    "        print(\"Choose your faction:\")\n",
    "        for i, faction in enumerate(factions, 1):\n",
    "            print(f\"{i}. {faction}\")\n",
    "        \n",
    "        while True:\n",
    "            try:\n",
    "                choice = int(input(\"Enter the number of your choice: \"))\n",
    "                if 1 <= choice <= len(factions):\n",
    "                    if factions[choice - 1] == \"Randomize Faction\":\n",
    "                        self.random_faction_selection(factions[:-1])\n",
    "                    else:\n",
    "                        self.faction = factions[choice - 1]\n",
    "                        print(f\"You chose the {self.faction}!\\n\")\n",
    "                    break\n",
    "                else:\n",
    "                    print(\"Please choose a valid number from the list.\")\n",
    "            except ValueError:\n",
    "                print(\"Invalid input. Please enter a number.\")\n",
    "\n",
    "    def random_faction_selection(self, factions):\n",
    "        self.faction = random.choice(factions)\n",
    "        print(f\"Randomly selected faction: {self.faction}!\\n\")\n",
    "\n",
    "    def faction_specific_styles(self):\n",
    "        if self.faction == \"Borstenmütter\":\n",
    "            self.choose_gender()\n",
    "\n",
    "        # Load the styles and values for the chosen faction\n",
    "        if self.faction in self.faction_data:\n",
    "            if self.faction == \"Borstenmütter\" and self.gender:\n",
    "                self.styles = self.faction_data[self.faction][self.gender][\"styles\"]\n",
    "                self.values = self.faction_data[self.faction][self.gender][\"values\"]\n",
    "            elif self.faction != \"Borstenmütter\":\n",
    "                self.styles = self.faction_data[self.faction][\"styles\"]\n",
    "                self.values = self.faction_data[self.faction][\"values\"]\n",
    "\n",
    "        # Special styles for KI training Cybersamurai\n",
    "        if self.faction == \"Cybersamurai\":\n",
    "            \n",
    "\n",
    "        \n",
    "        else:\n",
    "            print(f\"No specific styles defined for {self.faction}.\")\n",
    "\n",
    "    def choose_gender(self):\n",
    "        print(\"Borstenmütter: Bist du ein Keiler oder Bache?\")\n",
    "        while True:\n",
    "            gender_input = input(\"Gib 'Keiler' oder 'Bache' ein: \").lower()\n",
    "            if gender_input in [\"Keiler\", \"Bache\"]:\n",
    "                self.gender = gender_input\n",
    "                print(f\"You chose {self.gender} Borstenmütter!\\n\")\n",
    "                break\n",
    "            else:\n",
    "                print(\"Invalid input. Please enter 'male' or 'female'.\")\n",
    "\n",
    "    def choose_styles(self):\n",
    "        if not self.styles or not self.values:\n",
    "            print(\"No styles available to choose.\")\n",
    "            return\n",
    "\n",
    "        print(f\"Choose {len(self.values)} styles and assign the values {self.values}:\")\n",
    "        for i, style in enumerate(self.styles, 1):\n",
    "            print(f\"{i}. {style}\")\n",
    "        \n",
    "        chosen_styles = []\n",
    "        assigned_values = self.values[:]\n",
    "\n",
    "        while len(chosen_styles) < len(assigned_values):\n",
    "            try:\n",
    "                choice = int(input(f\"Choose style {len(chosen_styles) + 1}: \"))\n",
    "                if 1 <= choice <= len(self.styles):\n",
    "                    style = self.styles[choice - 1]\n",
    "                    if style not in chosen_styles:\n",
    "                        chosen_styles.append(style)\n",
    "                        print(f\"Assigned {assigned_values[len(chosen_styles) - 1]} to {style}\")\n",
    "                    else:\n",
    "                        print(\"You've already selected that style. Choose a different one.\")\n",
    "                else:\n",
    "                    print(\"Please choose a valid number from the list.\")\n",
    "            except ValueError:\n",
    "                print(\"Invalid input. Please enter a number.\")\n",
    "        \n",
    "        self.display_style_summary(chosen_styles, assigned_values)\n",
    "\n",
    "    def display_style_summary(self, chosen_styles, assigned_values):\n",
    "        print(\"\\nAssigned Styles:\")\n",
    "        for style, value in zip(chosen_styles, assigned_values):\n",
    "            print(f\"{style}: {value}\")\n",
    "\n",
    "# Main execution\n",
    "def main():\n",
    "    character = Character()\n",
    "    character.choose_faction()\n",
    "    character.faction_specific_styles()\n",
    "    character.choose_styles()\n",
    "\n",
    "if __name__ == \"__main__\":\n",
    "    main()\n"
   ]
  },
  {
   "cell_type": "code",
   "execution_count": null,
   "id": "4d3bf4f7-ebfc-4529-8b20-236c4f28795b",
   "metadata": {},
   "outputs": [],
   "source": []
  }
 ],
 "metadata": {
  "kernelspec": {
   "display_name": "Python 3 (ipykernel)",
   "language": "python",
   "name": "python3"
  },
  "language_info": {
   "codemirror_mode": {
    "name": "ipython",
    "version": 3
   },
   "file_extension": ".py",
   "mimetype": "text/x-python",
   "name": "python",
   "nbconvert_exporter": "python",
   "pygments_lexer": "ipython3",
   "version": "3.11.9"
  }
 },
 "nbformat": 4,
 "nbformat_minor": 5
}
